{
 "cells": [
  {
   "cell_type": "code",
   "execution_count": 1,
   "metadata": {},
   "outputs": [
    {
     "data": {
      "text/plain": [
       "1992"
      ]
     },
     "execution_count": 1,
     "metadata": {},
     "output_type": "execute_result"
    }
   ],
   "source": [
    "# словарь с годами рождения\n",
    "birthdays = {\"Вася\": 1991, \"Маша\": 1992, \"Петя\": 1992}\n",
    "\n",
    "# ключ есть в словаре\n",
    "birthdays.get(\"Петя\")"
   ]
  },
  {
   "cell_type": "code",
   "execution_count": 2,
   "metadata": {},
   "outputs": [
    {
     "name": "stdout",
     "output_type": "stream",
     "text": [
      "None\n"
     ]
    },
    {
     "data": {
      "text/plain": [
       "1994"
      ]
     },
     "execution_count": 2,
     "metadata": {},
     "output_type": "execute_result"
    }
   ],
   "source": [
    "# ключа нет в словаре; если не указать 2-ой аргумент, вернется None\n",
    "print(birthdays.get(\"Иннокентий\"))\n",
    "\n",
    "# если указать второй аргумент, то вернется второй аргумент\n",
    "birthdays.get(\"Иннокентий\", 1994)"
   ]
  },
  {
   "cell_type": "code",
   "execution_count": null,
   "metadata": {
    "collapsed": true
   },
   "outputs": [],
   "source": [
    "name = input(\"Введите имя: \")\n",
    "\n",
    "birthdays[name] = birthdays.get(name, int(input(\"Введите год рождения: \"))) \n",
    "#начинает исполнять функцию из самых внутренних скобочек. \n",
    "# Поэтому, чтобы он нормально проверял значения и ключи - нужно создать функцию\n",
    "\n",
    "print(birthdays)"
   ]
  },
  {
   "cell_type": "code",
   "execution_count": 6,
   "metadata": {},
   "outputs": [
    {
     "name": "stdout",
     "output_type": "stream",
     "text": [
      "None\n"
     ]
    }
   ],
   "source": [
    "print(birthdays.get(\"Костя\"))"
   ]
  },
  {
   "cell_type": "code",
   "execution_count": null,
   "metadata": {
    "collapsed": true
   },
   "outputs": [],
   "source": [
    "# определение функции\n",
    "def my_function():\n",
    "    return \"Hello world!\"\n",
    "\n",
    "# вызов функции\n",
    "my_function()"
   ]
  },
  {
   "cell_type": "code",
   "execution_count": 3,
   "metadata": {},
   "outputs": [
    {
     "name": "stdout",
     "output_type": "stream",
     "text": [
      "Введите букву русского алфавита\n",
      "я\n"
     ]
    },
    {
     "data": {
      "text/plain": [
       "'Это согласная!'"
      ]
     },
     "execution_count": 3,
     "metadata": {},
     "output_type": "execute_result"
    }
   ],
   "source": [
    "# Назовем ее sounds(),и пусть она принимает на вход один аргумент sound -- букву, \n",
    "# принадлежность которой к гласным или согласным нужно определить.\n",
    "def sounds(sound):\n",
    "    vowels = [\"а\", \"о\", \"и\", \"е\", \"у\", \"ы\", \"э\", \"ю\", \"я\"]\n",
    "    if len(sound) != 1: #в круглых скобках - список аргументов # != это значит не равно. т.е. не равно единичке\n",
    "        print(\"Введены неверные данные\")\n",
    "    else:\n",
    "        if sound in vowels:\n",
    "            return \"Это гласная!\"\n",
    "        else:\n",
    "            return \"Это согласная!\"\n",
    "\n",
    "# вызов функции        \n",
    "sounds(input(\"Введите букву русского алфавита\\n\"))"
   ]
  },
  {
   "cell_type": "code",
   "execution_count": 4,
   "metadata": {},
   "outputs": [
    {
     "name": "stdout",
     "output_type": "stream",
     "text": [
      "Это дом\n",
      "This is a cat\n",
      "Это cat\n"
     ]
    }
   ],
   "source": [
    "def this_is(word, lang = \"ru\"): #по умолчанию думает, что язык русский, если не указано дополнительно иного\n",
    "    if lang == \"en\":\n",
    "        return \"This is a \" + word\n",
    "    if lang == \"ru\":\n",
    "        return \"Это \" + word\n",
    "    \n",
    "print(this_is(\"дом\"))\n",
    "print(this_is(\"cat\", \"en\"))\n",
    "print(this_is(\"cat\"))"
   ]
  },
  {
   "cell_type": "code",
   "execution_count": 14,
   "metadata": {},
   "outputs": [
    {
     "name": "stdout",
     "output_type": "stream",
     "text": [
      "Введите имя: Андрей\n",
      "Введите номер телефона: 89176564321\n",
      "{'Ира': 89162730944, 'Миша': 89152487963, 'Ваня': 89176543213, 'Андрей': 89176564321}\n"
     ]
    },
    {
     "data": {
      "text/plain": [
       "{'Андрей': 89176564321,\n",
       " 'Ваня': 89176543213,\n",
       " 'Ира': 89162730944,\n",
       " 'Миша': 89152487963}"
      ]
     },
     "execution_count": 14,
     "metadata": {},
     "output_type": "execute_result"
    }
   ],
   "source": [
    "tel_book = {\"Ира\": 89162730944, \"Миша\": 89152487963, \"Ваня\": 89176543213}\n",
    "def numbers(tel_book, name):\n",
    "    if name in tel_book:\n",
    "        print (tel_book [name])\n",
    "    else: \n",
    "        tel_book[name] = int(input(\"Введите номер телефона: \"))\n",
    "        print (tel_book)\n",
    "    return(tel_book) \n",
    "\n",
    "numbers(tel_book, input(\"Введите имя: \"))"
   ]
  },
  {
   "cell_type": "code",
   "execution_count": 13,
   "metadata": {},
   "outputs": [
    {
     "name": "stdout",
     "output_type": "stream",
     "text": [
      "{'Ира': 89162730944, 'Миша': 89152487963, 'Ваня': 89176543213, 'Костя': 89078789876}\n"
     ]
    }
   ],
   "source": [
    "print(tel_book) "
   ]
  },
  {
   "cell_type": "code",
   "execution_count": null,
   "metadata": {
    "collapsed": true
   },
   "outputs": [],
   "source": []
  }
 ],
 "metadata": {
  "kernelspec": {
   "display_name": "Python 3",
   "language": "python",
   "name": "python3"
  },
  "language_info": {
   "codemirror_mode": {
    "name": "ipython",
    "version": 3
   },
   "file_extension": ".py",
   "mimetype": "text/x-python",
   "name": "python",
   "nbconvert_exporter": "python",
   "pygments_lexer": "ipython3",
   "version": "3.6.3"
  }
 },
 "nbformat": 4,
 "nbformat_minor": 2
}
