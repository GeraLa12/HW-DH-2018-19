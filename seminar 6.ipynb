{
 "cells": [
  {
   "cell_type": "code",
   "execution_count": null,
   "metadata": {
    "collapsed": true
   },
   "outputs": [],
   "source": [
    "# разреженный текст\n",
    "for letter in word:\n",
    "    print(letter + ' ', end = '') # чтобы не переносил на новую строку - пишем пустой end. \n",
    "    # он к строчке добавляет букву той же строки"
   ]
  },
  {
   "cell_type": "code",
   "execution_count": null,
   "metadata": {
    "collapsed": true
   },
   "outputs": [],
   "source": [
    "capital  = {\"Russia\": \"Moscow\", \"France\": \"Paris\", \"Turkey\": \"Ankara\", \"Georgia\": \"Tbilisi\"}\n",
    "\n",
    "# итерация по ключам словаря\n",
    "for key in capitals.keys():\n",
    "    print(\"I have been to\", key)\n",
    "    \n",
    "# итерация по значениям словаря\n",
    "for value in capitals.values():\n",
    "    print(\"There is a city called\", value)\n",
    "    \n",
    "# итерация по ключам и значениям\n",
    "for k, v in capitals.items():\n",
    "    print(v, \"is the capital of\", k)"
   ]
  },
  {
   "cell_type": "code",
   "execution_count": 4,
   "metadata": {},
   "outputs": [
    {
     "name": "stdout",
     "output_type": "stream",
     "text": [
      "aaaaaaa!\n",
      "aaaaaaaa!\n",
      "aaaaaaaaa!\n",
      "aaaaaaaaaa!\n",
      "aaaaaaaaaaa!\n",
      "aaaaaaaaaaaa!\n",
      "aaaaaaaaaaaaa!\n",
      "aaaaaaaaaaaaaa!\n"
     ]
    }
   ],
   "source": [
    "# от 5 до 10 \n",
    "for i in range(7, 15): \n",
    "    print(\"a\" * i, \"!\", sep=\"\")"
   ]
  },
  {
   "cell_type": "code",
   "execution_count": 5,
   "metadata": {},
   "outputs": [
    {
     "name": "stdout",
     "output_type": "stream",
     "text": [
      "aaaaa!\n",
      "aaaaaaa!\n",
      "aaaaaaaaa!\n"
     ]
    }
   ],
   "source": [
    "# от 5 до 10 с шагом 2\n",
    "for i in range(5, 10, 2): \n",
    "    print(\"a\" * i, \"!\", sep=\"\")"
   ]
  },
  {
   "cell_type": "code",
   "execution_count": null,
   "metadata": {
    "collapsed": true
   },
   "outputs": [],
   "source": [
    "for word in \"the cat is on the mat\".split():\n",
    "    if word == \"the\":\n",
    "        continue #прерывает интерацию, но не цикл\n",
    "    print(word)"
   ]
  },
  {
   "cell_type": "code",
   "execution_count": null,
   "metadata": {
    "collapsed": true
   },
   "outputs": [],
   "source": [
    "for word in \"the cat is on the mat\".split():\n",
    "    if len(word) < 3:\n",
    "        break\n",
    "    print(word)"
   ]
  },
  {
   "cell_type": "markdown",
   "metadata": {},
   "source": [
    "Задание 2\n",
    "Дан словарь {\"Russia\": \"Moscow\", \"France\": \"Paris\", \"Turkey\": \"Ankara\", \"Georgia\": \"Tbilisi\", \"Italy\": \"Rome\", \"Great Britain\": \"London\"}. Необходимо проитерироваться по элементам словаря и выводить все ключи и значения, пока не встретится ключ \"Italy\"."
   ]
  },
  {
   "cell_type": "code",
   "execution_count": 14,
   "metadata": {},
   "outputs": [
    {
     "name": "stdout",
     "output_type": "stream",
     "text": [
      "Russia Moscow\n",
      "France Paris\n",
      "Turkey Ankara\n",
      "Georgia Tbilisi\n"
     ]
    }
   ],
   "source": [
    "capitals = {\"Russia\": \"Moscow\", \"France\": \"Paris\", \"Turkey\": \"Ankara\", \"Georgia\": \"Tbilisi\", \"Italy\": \"Rome\", \"Great Britain\": \"London\"}\n",
    "k = capitals.keys()\n",
    "v = capitals.values()\n",
    "for k, v in capitals.items(): \n",
    "    if k == \"Italy\":\n",
    "        break\n",
    "    print (k, v)"
   ]
  },
  {
   "cell_type": "code",
   "execution_count": 15,
   "metadata": {},
   "outputs": [
    {
     "data": {
      "text/plain": [
       "['варкалось',\n",
       " 'хливкие',\n",
       " 'шорьки',\n",
       " 'пырялись',\n",
       " 'по',\n",
       " 'наве',\n",
       " 'и',\n",
       " 'хрюкотали',\n",
       " 'зелюки',\n",
       " 'как',\n",
       " 'мюмзики',\n",
       " 'в',\n",
       " 'мове',\n",
       " 'о',\n",
       " 'бойся',\n",
       " 'бармаглота',\n",
       " 'сын',\n",
       " 'он',\n",
       " 'так',\n",
       " 'свирлеп',\n",
       " 'и',\n",
       " 'дик',\n",
       " 'а',\n",
       " 'в',\n",
       " 'глyще',\n",
       " 'рымит',\n",
       " 'исполин',\n",
       " 'злопастный',\n",
       " 'брандашмыг']"
      ]
     },
     "execution_count": 15,
     "metadata": {},
     "output_type": "execute_result"
    }
   ],
   "source": [
    "a = (\"варкалось хливкие шорьки пырялись по наве и хрюкотали зелюки как мюмзики в мове о бойся бармаглота сын он так свирлеп и дик а в глyще рымит исполин злопастный брандашмыг\")\n",
    "a.split()"
   ]
  },
  {
   "cell_type": "code",
   "execution_count": null,
   "metadata": {
    "collapsed": true
   },
   "outputs": [],
   "source": [
    "for word in a.split():\n",
    "    "
   ]
  }
 ],
 "metadata": {
  "kernelspec": {
   "display_name": "Python 3",
   "language": "python",
   "name": "python3"
  },
  "language_info": {
   "codemirror_mode": {
    "name": "ipython",
    "version": 3
   },
   "file_extension": ".py",
   "mimetype": "text/x-python",
   "name": "python",
   "nbconvert_exporter": "python",
   "pygments_lexer": "ipython3",
   "version": "3.6.3"
  }
 },
 "nbformat": 4,
 "nbformat_minor": 2
}
